{
 "cells": [
  {
   "cell_type": "code",
   "execution_count": 6,
   "id": "44e92c8d",
   "metadata": {
    "_cell_guid": "b1076dfc-b9ad-4769-8c92-a6c4dae69d19",
    "_uuid": "8f2839f25d086af736a60e9eeb907d3b93b6e0e5",
    "execution": {
     "iopub.execute_input": "2023-04-04T12:48:05.233011Z",
     "iopub.status.busy": "2023-04-04T12:48:05.232501Z",
     "iopub.status.idle": "2023-04-04T12:48:05.267303Z",
     "shell.execute_reply": "2023-04-04T12:48:05.266313Z"
    },
    "papermill": {
     "duration": 0.042681,
     "end_time": "2023-04-04T12:48:05.270019",
     "exception": false,
     "start_time": "2023-04-04T12:48:05.227338",
     "status": "completed"
    },
    "tags": []
   },
   "outputs": [
    {
     "name": "stdout",
     "output_type": "stream",
     "text": [
      "{'montreal', 'toronto', 'washington'}\n"
     ]
    }
   ],
   "source": [
    "import numpy as np\n",
    "import pandas as pd\n",
    "import os\n",
    "from collections import defaultdict\n",
    "\n",
    "TRIPS_ROWS_LIMIT = None\n",
    "TYPE_TRIPS = 'trips'\n",
    "TYPE_STATIONS = 'stations'\n",
    "TYPE_WEATHER = 'weather'\n",
    "        \n",
    "cities = set()\n",
    "paths_by_city_and_type = defaultdict(dict)\n",
    "for dirname, _, filenames in os.walk('../client/data/'):\n",
    "    for filename in filenames:\n",
    "        city = os.path.basename(dirname)\n",
    "        cities.add(city)\n",
    "        file_type = os.path.splitext(filename)[0]\n",
    "        paths_by_city_and_type[city][file_type] = os.path.join(dirname, filename)\n",
    "            \n",
    "print(cities)"
   ]
  },
  {
   "cell_type": "code",
   "execution_count": null,
   "id": "a3d6bc9e",
   "metadata": {
    "execution": {
     "iopub.execute_input": "2023-04-04T12:48:05.277417Z",
     "iopub.status.busy": "2023-04-04T12:48:05.276334Z",
     "iopub.status.idle": "2023-04-04T13:00:51.879192Z",
     "shell.execute_reply": "2023-04-04T13:00:51.876958Z"
    },
    "papermill": {
     "duration": 766.618104,
     "end_time": "2023-04-04T13:00:51.890877",
     "exception": false,
     "start_time": "2023-04-04T12:48:05.272773",
     "status": "completed"
    },
    "tags": []
   },
   "outputs": [
    {
     "name": "stderr",
     "output_type": "stream",
     "text": [
      "/opt/conda/lib/python3.7/site-packages/IPython/core/interactiveshell.py:3553: DtypeWarning: Columns (1,3) have mixed types.Specify dtype option on import or set low_memory=False.\n",
      "  exec(code_obj, self.user_global_ns, self.user_ns)\n"
     ]
    },
    {
     "name": "stdout",
     "output_type": "stream",
     "text": [
      "730662933\n",
      "          duration_sec  yearid start_date_day  prectot  \\\n",
      "27770337        2010.0    2020     2020-06-09     4.85   \n",
      "27770338         329.0    2020     2020-03-06     0.10   \n",
      "27770339         310.0    2020     2020-01-31     1.46   \n",
      "27770340         722.0    2020     2020-06-02     0.03   \n",
      "27770341         556.0    2020     2020-01-29     0.00   \n",
      "\n",
      "                         start_station_name  start_station_latitude  \\\n",
      "27770337    Key West Ave & Great Seneca Hwy                     NaN   \n",
      "27770338  Traville Gateway Dr & Gudelsky Dr                     NaN   \n",
      "27770339               Shady Grove Hospital                     NaN   \n",
      "27770340               Shady Grove Hospital                     NaN   \n",
      "27770341   Medical Center Dr & Key West Ave                     NaN   \n",
      "\n",
      "          start_station_longitude          end_station_name  \\\n",
      "27770337                      NaN  Broschart & Blackwell Rd   \n",
      "27770338                      NaN  Broschart & Blackwell Rd   \n",
      "27770339                      NaN  Broschart & Blackwell Rd   \n",
      "27770340                      NaN  Broschart & Blackwell Rd   \n",
      "27770341                      NaN  Broschart & Blackwell Rd   \n",
      "\n",
      "          end_station_latitude  end_station_longitude        city  \n",
      "27770337                   NaN                    NaN  washington  \n",
      "27770338                   NaN                    NaN  washington  \n",
      "27770339                   NaN                    NaN  washington  \n",
      "27770340                   NaN                    NaN  washington  \n",
      "27770341                   NaN                    NaN  washington  \n"
     ]
    }
   ],
   "source": [
    "import datetime \n",
    "weather_by_city = {}\n",
    "for city in cities:\n",
    "    weather = pd.read_csv(paths_by_city_and_type[city][TYPE_WEATHER], delimiter=',')\n",
    "    weather = weather[['date', 'prectot']]\n",
    "    weather['date']= pd.to_datetime(weather['date']).apply(lambda t: (t - datetime.timedelta(days=1)).date())\n",
    "    weather_by_city[city] = weather\n",
    "    \n",
    "stations_by_city = {}\n",
    "for city in cities:\n",
    "    stations = pd.read_csv(paths_by_city_and_type[city][TYPE_STATIONS], delimiter=',')\n",
    "    stations_by_city[city] = stations\n",
    "\n",
    "trips_list = []\n",
    "for city in cities:\n",
    "    city_trips = pd.read_csv(paths_by_city_and_type[city][TYPE_TRIPS], delimiter=',', nrows=TRIPS_ROWS_LIMIT)\n",
    "    city_trips.loc[city_trips['duration_sec'] < 0 , 'duration_sec'] = 0 \n",
    "    city_trips['start_date']= pd.to_datetime(city_trips['start_date'])\n",
    "    city_trips['end_date']= pd.to_datetime(city_trips['end_date'])\n",
    "    city_trips['start_date_day'] = city_trips['start_date'].apply(lambda t:t.date())\n",
    "    city_trips = city_trips.merge(weather_by_city[city], left_on='start_date_day', right_on='date')\n",
    "    city_trips = city_trips.merge(stations_by_city[city], left_on=['start_station_code', 'yearid'], right_on=['code', 'yearid'])\n",
    "    city_trips.rename(columns = {'name':'start_station_name', 'latitude': 'start_station_latitude', 'longitude': 'start_station_longitude', }, inplace = True)\n",
    "    city_trips = city_trips.merge(stations_by_city[city], left_on=['end_station_code', 'yearid'], right_on=['code', 'yearid'])\n",
    "    city_trips.rename(columns = {'name':'end_station_name', 'latitude': 'end_station_latitude', 'longitude': 'end_station_longitude', }, inplace = True)\n",
    "    city_trips['city'] = city\n",
    "    city_trips = city_trips.drop(columns=['start_date', 'start_station_code', 'end_date', 'end_station_code', 'is_member', 'code_x', 'code_y', 'date'])\n",
    "    trips_list.append(city_trips)\n",
    "    \n",
    "trips = pd.concat(trips_list)\n",
    "trips_list = None\n",
    "print(trips.size)   \n",
    "print(trips.tail())   "
   ]
  },
  {
   "cell_type": "code",
   "execution_count": 3,
   "id": "dbbcd304",
   "metadata": {
    "execution": {
     "iopub.execute_input": "2023-04-04T13:00:51.899480Z",
     "iopub.status.busy": "2023-04-04T13:00:51.898645Z",
     "iopub.status.idle": "2023-04-04T13:01:07.225221Z",
     "shell.execute_reply": "2023-04-04T13:01:07.223933Z"
    },
    "papermill": {
     "duration": 15.334623,
     "end_time": "2023-04-04T13:01:07.228344",
     "exception": false,
     "start_time": "2023-04-04T13:00:51.893721",
     "status": "completed"
    },
    "tags": []
   },
   "outputs": [
    {
     "data": {
      "text/plain": [
       "start_date_day\n",
       "2011-03-05    1667.362707\n",
       "2011-03-09     830.043362\n",
       "2011-04-15    1281.006812\n",
       "2011-08-26    1059.071630\n",
       "2011-09-04    2159.195062\n",
       "                 ...     \n",
       "2020-08-03    2197.959854\n",
       "2020-10-11    1439.637820\n",
       "2020-10-28    2156.449094\n",
       "2020-11-10    1406.033608\n",
       "2020-11-29    1987.024564\n",
       "Name: duration_sec, Length: 63, dtype: float64"
      ]
     },
     "execution_count": 3,
     "metadata": {},
     "output_type": "execute_result"
    }
   ],
   "source": [
    "#Query 1 - Average duration on trips during >20mm precipitation days\n",
    "trips[trips.prectot > 30].groupby(['start_date_day'])['duration_sec'].mean()"
   ]
  },
  {
   "cell_type": "code",
   "execution_count": 4,
   "id": "584eebe6",
   "metadata": {
    "execution": {
     "iopub.execute_input": "2023-04-04T13:01:07.236255Z",
     "iopub.status.busy": "2023-04-04T13:01:07.235837Z",
     "iopub.status.idle": "2023-04-04T13:01:15.933818Z",
     "shell.execute_reply": "2023-04-04T13:01:15.932688Z"
    },
    "papermill": {
     "duration": 8.705478,
     "end_time": "2023-04-04T13:01:15.936807",
     "exception": false,
     "start_time": "2023-04-04T13:01:07.231329",
     "status": "completed"
    },
    "tags": []
   },
   "outputs": [
    {
     "data": {
      "text/html": [
       "<div>\n",
       "<style scoped>\n",
       "    .dataframe tbody tr th:only-of-type {\n",
       "        vertical-align: middle;\n",
       "    }\n",
       "\n",
       "    .dataframe tbody tr th {\n",
       "        vertical-align: top;\n",
       "    }\n",
       "\n",
       "    .dataframe thead th {\n",
       "        text-align: right;\n",
       "    }\n",
       "</style>\n",
       "<table border=\"1\" class=\"dataframe\">\n",
       "  <thead>\n",
       "    <tr style=\"text-align: right;\">\n",
       "      <th></th>\n",
       "      <th>start_station_name</th>\n",
       "      <th>qty_trips_qty_2017</th>\n",
       "      <th>qty_trips_qty_2016</th>\n",
       "    </tr>\n",
       "  </thead>\n",
       "  <tbody>\n",
       "    <tr>\n",
       "      <th>22</th>\n",
       "      <td>12th St &amp; Pennsylvania Ave SE</td>\n",
       "      <td>4925</td>\n",
       "      <td>47</td>\n",
       "    </tr>\n",
       "    <tr>\n",
       "      <th>33</th>\n",
       "      <td>14th &amp; Irving St NW</td>\n",
       "      <td>22389</td>\n",
       "      <td>8321</td>\n",
       "    </tr>\n",
       "    <tr>\n",
       "      <th>57</th>\n",
       "      <td>16th &amp; Q St SE / Anacostia HS</td>\n",
       "      <td>711</td>\n",
       "      <td>151</td>\n",
       "    </tr>\n",
       "    <tr>\n",
       "      <th>63</th>\n",
       "      <td>17th St &amp; Independence Ave SW</td>\n",
       "      <td>30088</td>\n",
       "      <td>13733</td>\n",
       "    </tr>\n",
       "    <tr>\n",
       "      <th>81</th>\n",
       "      <td>1st &amp; D St SE</td>\n",
       "      <td>13741</td>\n",
       "      <td>3204</td>\n",
       "    </tr>\n",
       "    <tr>\n",
       "      <th>...</th>\n",
       "      <td>...</td>\n",
       "      <td>...</td>\n",
       "      <td>...</td>\n",
       "    </tr>\n",
       "    <tr>\n",
       "      <th>935</th>\n",
       "      <td>Yarmouth Rd / Christie St</td>\n",
       "      <td>2917</td>\n",
       "      <td>907</td>\n",
       "    </tr>\n",
       "    <tr>\n",
       "      <th>936</th>\n",
       "      <td>Yonge St / Aylmer Ave</td>\n",
       "      <td>1923</td>\n",
       "      <td>728</td>\n",
       "    </tr>\n",
       "    <tr>\n",
       "      <th>938</th>\n",
       "      <td>Yonge St / Wood St</td>\n",
       "      <td>7564</td>\n",
       "      <td>3320</td>\n",
       "    </tr>\n",
       "    <tr>\n",
       "      <th>939</th>\n",
       "      <td>Yonge St / Yorkville Ave</td>\n",
       "      <td>6462</td>\n",
       "      <td>2391</td>\n",
       "    </tr>\n",
       "    <tr>\n",
       "      <th>940</th>\n",
       "      <td>York St / Queens Quay W</td>\n",
       "      <td>19143</td>\n",
       "      <td>8761</td>\n",
       "    </tr>\n",
       "  </tbody>\n",
       "</table>\n",
       "<p>213 rows × 3 columns</p>\n",
       "</div>"
      ],
      "text/plain": [
       "                start_station_name  qty_trips_qty_2017  qty_trips_qty_2016\n",
       "22   12th St & Pennsylvania Ave SE                4925                  47\n",
       "33             14th & Irving St NW               22389                8321\n",
       "57   16th & Q St SE / Anacostia HS                 711                 151\n",
       "63   17th St & Independence Ave SW               30088               13733\n",
       "81                   1st & D St SE               13741                3204\n",
       "..                             ...                 ...                 ...\n",
       "935      Yarmouth Rd / Christie St                2917                 907\n",
       "936          Yonge St / Aylmer Ave                1923                 728\n",
       "938             Yonge St / Wood St                7564                3320\n",
       "939       Yonge St / Yorkville Ave                6462                2391\n",
       "940        York St / Queens Quay W               19143                8761\n",
       "\n",
       "[213 rows x 3 columns]"
      ]
     },
     "execution_count": 4,
     "metadata": {},
     "output_type": "execute_result"
    }
   ],
   "source": [
    "#Query 2 - \n",
    "station_trips_totals = trips.groupby(['start_station_name', 'yearid']).size().reset_index(name='qty_trips')\n",
    "station_trips_2016 = station_trips_totals[station_trips_totals.yearid == 2016][['start_station_name', 'qty_trips']]\n",
    "station_trips_2017 = station_trips_totals[station_trips_totals.yearid == 2017][['start_station_name', 'qty_trips']]\n",
    "station_trips = station_trips_2017.merge(station_trips_2016, left_on='start_station_name', right_on='start_station_name', suffixes=('_qty_2017','_qty_2016'))\n",
    "station_trips[station_trips.qty_trips_qty_2017 > 2*station_trips.qty_trips_qty_2016]"
   ]
  },
  {
   "cell_type": "code",
   "execution_count": 5,
   "id": "9152ada6",
   "metadata": {
    "execution": {
     "iopub.execute_input": "2023-04-04T13:01:15.945312Z",
     "iopub.status.busy": "2023-04-04T13:01:15.944934Z",
     "iopub.status.idle": "2023-04-04T13:16:42.638217Z",
     "shell.execute_reply": "2023-04-04T13:16:42.636809Z"
    },
    "papermill": {
     "duration": 926.704813,
     "end_time": "2023-04-04T13:16:42.644839",
     "exception": false,
     "start_time": "2023-04-04T13:01:15.940026",
     "status": "completed"
    },
    "tags": []
   },
   "outputs": [
    {
     "data": {
      "text/html": [
       "<div>\n",
       "<style scoped>\n",
       "    .dataframe tbody tr th:only-of-type {\n",
       "        vertical-align: middle;\n",
       "    }\n",
       "\n",
       "    .dataframe tbody tr th {\n",
       "        vertical-align: top;\n",
       "    }\n",
       "\n",
       "    .dataframe thead th {\n",
       "        text-align: right;\n",
       "    }\n",
       "</style>\n",
       "<table border=\"1\" class=\"dataframe\">\n",
       "  <thead>\n",
       "    <tr style=\"text-align: right;\">\n",
       "      <th></th>\n",
       "      <th>end_station_name</th>\n",
       "      <th>distance</th>\n",
       "    </tr>\n",
       "  </thead>\n",
       "  <tbody>\n",
       "    <tr>\n",
       "      <th>943</th>\n",
       "      <td>de Grosbois / Ducheneau</td>\n",
       "      <td>10.562033</td>\n",
       "    </tr>\n",
       "  </tbody>\n",
       "</table>\n",
       "</div>"
      ],
      "text/plain": [
       "            end_station_name   distance\n",
       "943  de Grosbois / Ducheneau  10.562033"
      ]
     },
     "execution_count": 5,
     "metadata": {},
     "output_type": "execute_result"
    }
   ],
   "source": [
    "#Query 3 - Stations with more than 6km avg to arrive at them\n",
    "from haversine import haversine\n",
    "\n",
    "montreal_trips = trips[trips.city == 'montreal']\n",
    "trips = None\n",
    "station_distances_array = montreal_trips.apply(lambda r : [r['end_station_name'], haversine((r['start_station_latitude'], r['start_station_longitude']), (r['end_station_latitude'], r['end_station_longitude']))], axis = 1)\n",
    "montreal_trips = None\n",
    "station_distances = pd.DataFrame(station_distances_array.values.tolist(), columns=['end_station_name', 'distance'])\n",
    "\n",
    "montreal_station_mean_distances = station_distances.groupby(['end_station_name'])['distance'].mean().reset_index()\n",
    "montreal_station_mean_distances[montreal_station_mean_distances.distance >= 6]"
   ]
  }
 ],
 "metadata": {
  "kernelspec": {
   "display_name": "Python 3",
   "language": "python",
   "name": "python3"
  },
  "language_info": {
   "codemirror_mode": {
    "name": "ipython",
    "version": 3
   },
   "file_extension": ".py",
   "mimetype": "text/x-python",
   "name": "python",
   "nbconvert_exporter": "python",
   "pygments_lexer": "ipython3",
   "version": "3.11.3"
  },
  "papermill": {
   "default_parameters": {},
   "duration": 1731.075535,
   "end_time": "2023-04-04T13:16:45.780826",
   "environment_variables": {},
   "exception": null,
   "input_path": "__notebook__.ipynb",
   "output_path": "__notebook__.ipynb",
   "parameters": {},
   "start_time": "2023-04-04T12:47:54.705291",
   "version": "2.4.0"
  }
 },
 "nbformat": 4,
 "nbformat_minor": 5
}
